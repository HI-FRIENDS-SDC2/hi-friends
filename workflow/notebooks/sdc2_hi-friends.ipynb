{
 "cells": [
  {
   "cell_type": "code",
   "execution_count": 13,
   "id": "de2d2ed9",
   "metadata": {},
   "outputs": [],
   "source": [
    "import sys\n",
    "import argparse\n",
    "from spectral_cube import SpectralCube\n",
    "import numpy as np\n",
    "import matplotlib.pyplot as plt\n",
    "import pandas as pd"
   ]
  },
  {
   "cell_type": "code",
   "execution_count": 3,
   "id": "6870accc",
   "metadata": {},
   "outputs": [],
   "source": [
    "def plot_subcubes(coord_subcubes, ls='-', color=None, lw=1):\n",
    "    for i, coord in  enumerate(coord_subcubes):\n",
    "        xlo, ylo, xhi, yhi = coord\n",
    "        plt.plot([xlo, xhi, xhi, xlo, xlo],\n",
    "                 [ylo, ylo, yhi, yhi, ylo],\n",
    "                 color=color, ls=ls, lw=lw)\n",
    "        plt.annotate(f'{i}',\n",
    "                     xy=(np.mean([xlo, xhi]),\n",
    "                         np.mean([ylo, yhi]))\n",
    "                     )"
   ]
  },
  {
   "cell_type": "code",
   "execution_count": 12,
   "id": "57226a6a",
   "metadata": {},
   "outputs": [],
   "source": [
    "coord_subcubes = np.loadtxt('results/coord_subcubes.csv', skiprows=1, delimiter=',')\n",
    "plot_subcubes(coord_subcubes)"
   ]
  },
  {
   "cell_type": "code",
   "execution_count": 16,
   "id": "0aba9fef",
   "metadata": {},
   "outputs": [],
   "source": [
    "df = pd.read_csv('results/final_catalog.csv', delimiter=' ')"
   ]
  },
  {
   "cell_type": "code",
   "execution_count": null,
   "id": "651afe4b",
   "metadata": {},
   "outputs": [],
   "source": [
    "sns.histplot(df)"
   ]
  },
  {
   "cell_type": "code",
   "execution_count": null,
   "id": "90bb365e",
   "metadata": {},
   "outputs": [],
   "source": []
  }
 ],
 "metadata": {
  "kernelspec": {
   "display_name": "Python 3 (ipykernel)",
   "language": "python",
   "name": "python3"
  },
  "language_info": {
   "codemirror_mode": {
    "name": "ipython",
    "version": 3
   },
   "file_extension": ".py",
   "mimetype": "text/x-python",
   "name": "python",
   "nbconvert_exporter": "python",
   "pygments_lexer": "ipython3",
   "version": "3.9.6"
  }
 },
 "nbformat": 4,
 "nbformat_minor": 5
}
