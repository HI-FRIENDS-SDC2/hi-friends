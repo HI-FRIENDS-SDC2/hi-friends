{
 "cells": [
  {
   "cell_type": "code",
   "execution_count": null,
   "id": "de2d2ed9",
   "metadata": {},
   "outputs": [],
   "source": [
    "import sys\n",
    "import argparse\n",
    "from spectral_cube import SpectralCube\n",
    "import numpy as np\n",
    "import matplotlib.pyplot as plt\n",
    "import pandas as pd\n",
    "import seaborn as sns\n",
    "import glob"
   ]
  },
  {
   "cell_type": "code",
   "execution_count": null,
   "id": "6870accc",
   "metadata": {},
   "outputs": [],
   "source": [
    "plt.rc('figure', facecolor='w')\n",
    "\n",
    "def plot_subcubes(coord_subcubes, ax, ls='-', color=None, lw=1):\n",
    "    for i, coord in  enumerate(coord_subcubes):\n",
    "        xlo, ylo, xhi, yhi = coord\n",
    "        ax.plot([xlo, xhi, xhi, xlo, xlo],\n",
    "                 [ylo, ylo, yhi, yhi, ylo],\n",
    "                 color=color, ls=ls, lw=lw)\n",
    "        ax.annotate(f'{i}',\n",
    "                     xy=(np.mean([xlo, xhi]),\n",
    "                         np.mean([ylo, yhi]))\n",
    "                     )\n",
    "def plot_border(wcs, N):\n",
    "    brc = wcs.pixel_to_world(0,0,0)[0]\n",
    "    trc = wcs.pixel_to_world(0,N,0)[0]\n",
    "    tlc = wcs.pixel_to_world(N,N,0)[0]\n",
    "    blc = wcs.pixel_to_world(N,0,0)[0]\n",
    "    plt.plot([brc.ra.deg, trc.ra.deg, tlc.ra.deg, blc.ra.deg, brc.ra.deg],\n",
    "             [brc.dec.deg, trc.dec.deg, tlc.dec.deg, blc.dec.deg, brc.dec.deg],\n",
    "            'k-', lw=4)\n",
    "\n",
    "def plot_grid(coord_subcubes):\n",
    "    ## Plot grid of subcubes\n",
    "    #plt.subplot(projection=wcs, slices=['x','y', 0])  # It is not correcly projecting the pixels when using this mode. Alternatively, I could use APLpy\n",
    "    plt.subplot()\n",
    "    #plot_border(wcs, N)\n",
    "    plot_subcubes(coord_subcubes)\n",
    "    #plt.grid()\n",
    "    plt.xlabel('R.A. [deg]')\n",
    "    plt.ylabel('Dec. [deg]')\n",
    "    plt.gca().invert_xaxis()\n",
    "    #plt.savefig(grid_plot, bbox_inches='tight', dpi=200)\n",
    "\n"
   ]
  },
  {
   "cell_type": "code",
   "execution_count": null,
   "id": "06e17ae9",
   "metadata": {},
   "outputs": [],
   "source": [
    "df = pd.read_csv('results/catalogs/final_catalog.csv', delimiter=' ')\n",
    "df_truth = pd.read_csv('/mnt/scratch/sdc2/data/development_large/sky_ldev_truthcat_v2.txt', delimiter=' ')"
   ]
  },
  {
   "cell_type": "markdown",
   "id": "e359741f",
   "metadata": {},
   "source": [
    "# Grid definition and detected sources"
   ]
  },
  {
   "cell_type": "code",
   "execution_count": null,
   "id": "57226a6a",
   "metadata": {
    "scrolled": true
   },
   "outputs": [],
   "source": [
    "coord_subcubes = np.loadtxt('results/catalogs/coord_subcubes.csv', skiprows=1, delimiter=',')\n",
    "fig, ax = plt.subplots(1, 1, figsize=(8, 6))\n",
    "\n",
    "plot_subcubes(coord_subcubes, ax=ax)\n",
    "ax.invert_xaxis()\n",
    "ax.set_xlabel('R.A. [deg]')\n",
    "ax.set_ylabel('Dec. [deg]');"
   ]
  },
  {
   "cell_type": "code",
   "execution_count": null,
   "id": "394f69a5",
   "metadata": {
    "scrolled": true
   },
   "outputs": [],
   "source": [
    "fig, ax = plt.subplots(1, 1, figsize=(8, 6))\n",
    "\n",
    "plot_subcubes(coord_subcubes, ax=ax)\n",
    "#ax.plot(df_truth['ra'], df_truth['dec'], '+r')\n",
    "ax.plot(df['ra'], df['dec'], '+k')\n",
    "ax.invert_xaxis()\n",
    "\n",
    "ax.set_xlabel('R.A. [deg]')\n",
    "ax.set_ylabel('Dec. [deg]')\n",
    "\n",
    "fig.savefig('results/plots/sky_detected_sources.png', bbox_inches='tight', dpi=150)"
   ]
  },
  {
   "cell_type": "code",
   "execution_count": null,
   "id": "f58e8f6b",
   "metadata": {},
   "outputs": [],
   "source": [
    "cat_files = sorted(glob.glob('results/sofia/*/subcube_*_final_catalog.csv'))\n",
    "for cat_file in cat_files:\n",
    "    with open(cat_file, 'r') as f:\n",
    "        lines = f.readlines()\n",
    "        print(cat_file, len(lines))"
   ]
  },
  {
   "cell_type": "markdown",
   "id": "642b4552",
   "metadata": {},
   "source": [
    "# Distribution of output parameters"
   ]
  },
  {
   "cell_type": "code",
   "execution_count": null,
   "id": "651afe4b",
   "metadata": {},
   "outputs": [],
   "source": [
    "fig, axs = plt.subplots(2, 4, figsize=(20, 12))\n",
    "\n",
    "for i, c in enumerate(['ra', 'dec', 'hi_size', 'line_flux_integral', 'central_freq', 'pa', 'i', 'w20']):\n",
    "    ax = axs.flatten()[i]\n",
    "\n",
    "    #sns.kdeplot(data=df_truth, x=c, color='r', lw=2, ax=ax)\n",
    "    ax.set_title(c)\n",
    "    if c in ['hi_size', 'line_flux_integral', 'w20']:\n",
    "        ax.set_xscale('log')\n",
    "        ax.set_yscale('log')\n",
    "        sns.histplot(data=df, x=c, kde=False, log_scale=True, edgecolor='None', ax=ax)\n",
    "        sns.histplot(data=df_truth, bins=20, x=c, kde=False, ax=ax, alpha=0.1, edgecolor='0.2', facecolor='0.8',  log_scale=True, element=\"step\")\n",
    "    else:\n",
    "        sns.histplot(data=df, x=c, kde=False, edgecolor='None', ax=ax)\n",
    "        sns.histplot(data=df_truth, bins=50, x=c, kde=False,  ax=ax, alpha=0.9, edgecolor='0.2', facecolor='0.8',  element=\"step\")\n",
    "        ax.set_yscale('log')\n",
    "\n",
    "fig.savefig(\"results/plots/output_params_distribution.png\", bbox_inches='tight', dpi=200)"
   ]
  },
  {
   "cell_type": "code",
   "execution_count": null,
   "id": "41e1f09f",
   "metadata": {},
   "outputs": [],
   "source": [
    "fig, ax = plt.subplots(1, 1, figsize=(10, 8))\n",
    "\n",
    "c = 'hi_size'\n",
    "ax.set_xscale('log')\n",
    "sns.histplot(data=df, x=c, edgecolor='None', kde=False, log_scale=True, ax=ax)\n",
    "sns.histplot(data=df_truth, bins=20, x=c, kde=False, ax=ax, alpha=0.1, edgecolor='k', facecolor='0.8',  log_scale=True, element=\"step\")\n",
    "ax.set_yscale('log')"
   ]
  },
  {
   "cell_type": "code",
   "execution_count": null,
   "id": "52f280c4",
   "metadata": {},
   "outputs": [],
   "source": [
    "fig, ax = plt.subplots(1, 1, figsize=(10, 8))\n",
    "\n",
    "c = 'w20'\n",
    "ax.set_xscale('log')\n",
    "sns.histplot(data=df, x=c, edgecolor='None', kde=False, log_scale=True, ax=ax)\n",
    "sns.histplot(data=df_truth, bins=20, x=c, kde=False, ax=ax, alpha=0.1, edgecolor='k', facecolor='0.8',  log_scale=True, element=\"step\")\n",
    "ax.set_yscale('log')"
   ]
  },
  {
   "cell_type": "code",
   "execution_count": null,
   "id": "7f89cedd",
   "metadata": {},
   "outputs": [],
   "source": [
    "print(f\"{np.mean(df['w20'])}+/-{np.std(df['w20'])}\")\n",
    "print(f\"{np.mean(df_truth['w20'])}+/-{np.std(df_truth['w20'])}\")"
   ]
  }
 ],
 "metadata": {
  "kernelspec": {
   "display_name": "Python 3 (ipykernel)",
   "language": "python",
   "name": "python3"
  },
  "language_info": {
   "codemirror_mode": {
    "name": "ipython",
    "version": 3
   },
   "file_extension": ".py",
   "mimetype": "text/x-python",
   "name": "python",
   "nbconvert_exporter": "python",
   "pygments_lexer": "ipython3",
   "version": "3.9.6"
  }
 },
 "nbformat": 4,
 "nbformat_minor": 5
}
